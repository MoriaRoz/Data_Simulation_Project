{
 "cells": [
  {
   "cell_type": "code",
   "execution_count": 1,
   "id": "65d9f8a7",
   "metadata": {},
   "outputs": [],
   "source": [
    "import pandas as pd\n",
    "import numpy as np\n",
    "from sklearn.linear_model import LinearRegression\n",
    "from sklearn.model_selection import train_test_split\n",
    "from sklearn.tree import DecisionTreeClassifier\n",
    "from sklearn import metrics\n",
    "from sklearn import preprocessing\n",
    "from sklearn.tree import DecisionTreeClassifier\n",
    "from sklearn import preprocessing\n",
    "from sklearn import utils"
   ]
  },
  {
   "cell_type": "code",
   "execution_count": 2,
   "id": "cf2e214a",
   "metadata": {},
   "outputs": [],
   "source": [
    "df = pd.read_csv(r\"unemployed.csv\")"
   ]
  },
  {
   "cell_type": "code",
   "execution_count": 3,
   "id": "70931b68",
   "metadata": {},
   "outputs": [
    {
     "data": {
      "text/html": [
       "<div>\n",
       "<style scoped>\n",
       "    .dataframe tbody tr th:only-of-type {\n",
       "        vertical-align: middle;\n",
       "    }\n",
       "\n",
       "    .dataframe tbody tr th {\n",
       "        vertical-align: top;\n",
       "    }\n",
       "\n",
       "    .dataframe thead th {\n",
       "        text-align: right;\n",
       "    }\n",
       "</style>\n",
       "<table border=\"1\" class=\"dataframe\">\n",
       "  <thead>\n",
       "    <tr style=\"text-align: right;\">\n",
       "      <th></th>\n",
       "      <th>Month</th>\n",
       "      <th>Cbs district</th>\n",
       "      <th>City symbol</th>\n",
       "      <th>Name</th>\n",
       "      <th>City or Regional council</th>\n",
       "      <th>Men</th>\n",
       "      <th>Weman</th>\n",
       "      <th>Academic</th>\n",
       "      <th>Non academic</th>\n",
       "      <th>Unemployed job seekers</th>\n",
       "      <th>Estimated unemployed rate in city</th>\n",
       "    </tr>\n",
       "  </thead>\n",
       "  <tbody>\n",
       "    <tr>\n",
       "      <th>0</th>\n",
       "      <td>2010-01</td>\n",
       "      <td>Haifa</td>\n",
       "      <td>2710</td>\n",
       "      <td>אום אל-פחם</td>\n",
       "      <td>יישוב</td>\n",
       "      <td>1398</td>\n",
       "      <td>1941</td>\n",
       "      <td>10</td>\n",
       "      <td>3329</td>\n",
       "      <td>3335</td>\n",
       "      <td>19.94%</td>\n",
       "    </tr>\n",
       "    <tr>\n",
       "      <th>1</th>\n",
       "      <td>2010-01</td>\n",
       "      <td>Haifa</td>\n",
       "      <td>1020</td>\n",
       "      <td>אור עקיבא</td>\n",
       "      <td>יישוב</td>\n",
       "      <td>258</td>\n",
       "      <td>318</td>\n",
       "      <td>53</td>\n",
       "      <td>523</td>\n",
       "      <td>562</td>\n",
       "      <td>6.23%</td>\n",
       "    </tr>\n",
       "    <tr>\n",
       "      <th>2</th>\n",
       "      <td>2010-01</td>\n",
       "      <td>Haifa</td>\n",
       "      <td>6000</td>\n",
       "      <td>באקה אל-גרביה</td>\n",
       "      <td>יישוב</td>\n",
       "      <td>278</td>\n",
       "      <td>214</td>\n",
       "      <td>5</td>\n",
       "      <td>487</td>\n",
       "      <td>491</td>\n",
       "      <td>NaN</td>\n",
       "    </tr>\n",
       "    <tr>\n",
       "      <th>3</th>\n",
       "      <td>2010-01</td>\n",
       "      <td>Haifa</td>\n",
       "      <td>9800</td>\n",
       "      <td>בנימינה-גבעת עדה*</td>\n",
       "      <td>יישוב</td>\n",
       "      <td>83</td>\n",
       "      <td>108</td>\n",
       "      <td>64</td>\n",
       "      <td>127</td>\n",
       "      <td>190</td>\n",
       "      <td>3.11%</td>\n",
       "    </tr>\n",
       "    <tr>\n",
       "      <th>4</th>\n",
       "      <td>2010-01</td>\n",
       "      <td>Haifa</td>\n",
       "      <td>1326</td>\n",
       "      <td>בסמ\"ה</td>\n",
       "      <td>יישוב</td>\n",
       "      <td>146</td>\n",
       "      <td>128</td>\n",
       "      <td>5</td>\n",
       "      <td>269</td>\n",
       "      <td>274</td>\n",
       "      <td>8.95%</td>\n",
       "    </tr>\n",
       "  </tbody>\n",
       "</table>\n",
       "</div>"
      ],
      "text/plain": [
       "     Month Cbs district  City symbol               Name  \\\n",
       "0  2010-01        Haifa         2710         אום אל-פחם   \n",
       "1  2010-01        Haifa         1020          אור עקיבא   \n",
       "2  2010-01        Haifa         6000      באקה אל-גרביה   \n",
       "3  2010-01        Haifa         9800  בנימינה-גבעת עדה*   \n",
       "4  2010-01        Haifa         1326              בסמ\"ה   \n",
       "\n",
       "  City or Regional council   Men  Weman  Academic  Non academic  \\\n",
       "0                    יישוב  1398   1941        10          3329   \n",
       "1                    יישוב   258    318        53           523   \n",
       "2                    יישוב   278    214         5           487   \n",
       "3                    יישוב    83    108        64           127   \n",
       "4                    יישוב   146    128         5           269   \n",
       "\n",
       "   Unemployed job seekers Estimated unemployed rate in city  \n",
       "0                    3335                            19.94%  \n",
       "1                     562                             6.23%  \n",
       "2                     491                               NaN  \n",
       "3                     190                             3.11%  \n",
       "4                     274                             8.95%  "
      ]
     },
     "execution_count": 3,
     "metadata": {},
     "output_type": "execute_result"
    }
   ],
   "source": [
    "df.head()"
   ]
  },
  {
   "cell_type": "code",
   "execution_count": 4,
   "id": "531bf11e",
   "metadata": {},
   "outputs": [
    {
     "data": {
      "text/plain": [
       "(28668, 11)"
      ]
     },
     "execution_count": 4,
     "metadata": {},
     "output_type": "execute_result"
    }
   ],
   "source": [
    "df.shape"
   ]
  },
  {
   "cell_type": "code",
   "execution_count": 5,
   "id": "4ef3638f",
   "metadata": {},
   "outputs": [],
   "source": [
    "df = df.dropna()"
   ]
  },
  {
   "cell_type": "code",
   "execution_count": 6,
   "id": "9131cafb",
   "metadata": {},
   "outputs": [
    {
     "data": {
      "text/plain": [
       "Month                                0\n",
       "Cbs district                         0\n",
       "City symbol                          0\n",
       "Name                                 0\n",
       "City or Regional council             0\n",
       "Men                                  0\n",
       "Weman                                0\n",
       "Academic                             0\n",
       "Non academic                         0\n",
       "Unemployed job seekers               0\n",
       "Estimated unemployed rate in city    0\n",
       "dtype: int64"
      ]
     },
     "execution_count": 6,
     "metadata": {},
     "output_type": "execute_result"
    }
   ],
   "source": [
    "df.isna().sum()"
   ]
  },
  {
   "cell_type": "code",
   "execution_count": 7,
   "id": "fbc6afbb",
   "metadata": {},
   "outputs": [
    {
     "name": "stdout",
     "output_type": "stream",
     "text": [
      "0               אום אל-פחם\n",
      "1                אור עקיבא\n",
      "3        בנימינה-גבעת עדה*\n",
      "4                    בסמ\"ה\n",
      "5              ג'סר א-זרקא\n",
      "               ...        \n",
      "28663           מעלה אפרים\n",
      "28664               עמנואל\n",
      "28665               קדומים\n",
      "28666           קריית ארבע\n",
      "28667          קרני שומרון\n",
      "Name: Name, Length: 28620, dtype: object\n"
     ]
    }
   ],
   "source": [
    "name_column = df.loc[:,'Name']\n",
    "names = name_column.values\n",
    "print(name_column)"
   ]
  },
  {
   "cell_type": "code",
   "execution_count": 8,
   "id": "590df368",
   "metadata": {},
   "outputs": [
    {
     "data": {
      "text/plain": [
       "באר יעקב              124\n",
       "גדרה                  124\n",
       "חצור הגלילית          124\n",
       "פקיעין (בוקייעה)      124\n",
       "קריית יערים           124\n",
       "                     ... \n",
       "מ.א. שדות דן           40\n",
       "מ.א. עמק לוד           36\n",
       "חריש-קציר              24\n",
       "מ.א. בוסתן אל-מרג'     24\n",
       "אפרתה                  24\n",
       "Name: Name, Length: 259, dtype: int64"
      ]
     },
     "execution_count": 8,
     "metadata": {},
     "output_type": "execute_result"
    }
   ],
   "source": [
    "df['Name'].value_counts()"
   ]
  },
  {
   "cell_type": "code",
   "execution_count": 9,
   "id": "9137138b",
   "metadata": {},
   "outputs": [],
   "source": [
    "dummies = pd.get_dummies(df.Name)"
   ]
  },
  {
   "cell_type": "code",
   "execution_count": 10,
   "id": "47e2d6c7",
   "metadata": {},
   "outputs": [],
   "source": [
    "merged = pd.concat([df, dummies], axis='columns')"
   ]
  },
  {
   "cell_type": "code",
   "execution_count": 11,
   "id": "671835e0",
   "metadata": {},
   "outputs": [],
   "source": [
    "df = merged.drop(['Name'], axis='columns')"
   ]
  },
  {
   "cell_type": "code",
   "execution_count": 12,
   "id": "21e1133c",
   "metadata": {},
   "outputs": [
    {
     "data": {
      "text/plain": [
       "array(['יישוב', 'מועצה איזורית'], dtype=object)"
      ]
     },
     "execution_count": 12,
     "metadata": {},
     "output_type": "execute_result"
    }
   ],
   "source": [
    "df['City or Regional council'].unique()"
   ]
  },
  {
   "cell_type": "code",
   "execution_count": 13,
   "id": "aeb26930",
   "metadata": {},
   "outputs": [],
   "source": [
    "df['City or Regional council'] = pd.factorize(df['City or Regional council'])[0]"
   ]
  },
  {
   "cell_type": "code",
   "execution_count": 14,
   "id": "c473a3be",
   "metadata": {},
   "outputs": [
    {
     "data": {
      "text/html": [
       "<div>\n",
       "<style scoped>\n",
       "    .dataframe tbody tr th:only-of-type {\n",
       "        vertical-align: middle;\n",
       "    }\n",
       "\n",
       "    .dataframe tbody tr th {\n",
       "        vertical-align: top;\n",
       "    }\n",
       "\n",
       "    .dataframe thead th {\n",
       "        text-align: right;\n",
       "    }\n",
       "</style>\n",
       "<table border=\"1\" class=\"dataframe\">\n",
       "  <thead>\n",
       "    <tr style=\"text-align: right;\">\n",
       "      <th></th>\n",
       "      <th>Month</th>\n",
       "      <th>Cbs district</th>\n",
       "      <th>City symbol</th>\n",
       "      <th>City or Regional council</th>\n",
       "      <th>Men</th>\n",
       "      <th>Weman</th>\n",
       "      <th>Academic</th>\n",
       "      <th>Non academic</th>\n",
       "      <th>Unemployed job seekers</th>\n",
       "      <th>Estimated unemployed rate in city</th>\n",
       "      <th>...</th>\n",
       "      <th>רעננה</th>\n",
       "      <th>שבלי - אום אל-גנם</th>\n",
       "      <th>שגב-שלום</th>\n",
       "      <th>שדרות</th>\n",
       "      <th>שוהם</th>\n",
       "      <th>שלומי</th>\n",
       "      <th>שעב</th>\n",
       "      <th>שפרעם</th>\n",
       "      <th>תל מונד</th>\n",
       "      <th>תל שבע</th>\n",
       "    </tr>\n",
       "  </thead>\n",
       "  <tbody>\n",
       "    <tr>\n",
       "      <th>0</th>\n",
       "      <td>2010-01</td>\n",
       "      <td>Haifa</td>\n",
       "      <td>2710</td>\n",
       "      <td>0</td>\n",
       "      <td>1398</td>\n",
       "      <td>1941</td>\n",
       "      <td>10</td>\n",
       "      <td>3329</td>\n",
       "      <td>3335</td>\n",
       "      <td>19.94%</td>\n",
       "      <td>...</td>\n",
       "      <td>0</td>\n",
       "      <td>0</td>\n",
       "      <td>0</td>\n",
       "      <td>0</td>\n",
       "      <td>0</td>\n",
       "      <td>0</td>\n",
       "      <td>0</td>\n",
       "      <td>0</td>\n",
       "      <td>0</td>\n",
       "      <td>0</td>\n",
       "    </tr>\n",
       "    <tr>\n",
       "      <th>1</th>\n",
       "      <td>2010-01</td>\n",
       "      <td>Haifa</td>\n",
       "      <td>1020</td>\n",
       "      <td>0</td>\n",
       "      <td>258</td>\n",
       "      <td>318</td>\n",
       "      <td>53</td>\n",
       "      <td>523</td>\n",
       "      <td>562</td>\n",
       "      <td>6.23%</td>\n",
       "      <td>...</td>\n",
       "      <td>0</td>\n",
       "      <td>0</td>\n",
       "      <td>0</td>\n",
       "      <td>0</td>\n",
       "      <td>0</td>\n",
       "      <td>0</td>\n",
       "      <td>0</td>\n",
       "      <td>0</td>\n",
       "      <td>0</td>\n",
       "      <td>0</td>\n",
       "    </tr>\n",
       "    <tr>\n",
       "      <th>3</th>\n",
       "      <td>2010-01</td>\n",
       "      <td>Haifa</td>\n",
       "      <td>9800</td>\n",
       "      <td>0</td>\n",
       "      <td>83</td>\n",
       "      <td>108</td>\n",
       "      <td>64</td>\n",
       "      <td>127</td>\n",
       "      <td>190</td>\n",
       "      <td>3.11%</td>\n",
       "      <td>...</td>\n",
       "      <td>0</td>\n",
       "      <td>0</td>\n",
       "      <td>0</td>\n",
       "      <td>0</td>\n",
       "      <td>0</td>\n",
       "      <td>0</td>\n",
       "      <td>0</td>\n",
       "      <td>0</td>\n",
       "      <td>0</td>\n",
       "      <td>0</td>\n",
       "    </tr>\n",
       "    <tr>\n",
       "      <th>4</th>\n",
       "      <td>2010-01</td>\n",
       "      <td>Haifa</td>\n",
       "      <td>1326</td>\n",
       "      <td>0</td>\n",
       "      <td>146</td>\n",
       "      <td>128</td>\n",
       "      <td>5</td>\n",
       "      <td>269</td>\n",
       "      <td>274</td>\n",
       "      <td>8.95%</td>\n",
       "      <td>...</td>\n",
       "      <td>0</td>\n",
       "      <td>0</td>\n",
       "      <td>0</td>\n",
       "      <td>0</td>\n",
       "      <td>0</td>\n",
       "      <td>0</td>\n",
       "      <td>0</td>\n",
       "      <td>0</td>\n",
       "      <td>0</td>\n",
       "      <td>0</td>\n",
       "    </tr>\n",
       "    <tr>\n",
       "      <th>5</th>\n",
       "      <td>2010-01</td>\n",
       "      <td>Haifa</td>\n",
       "      <td>541</td>\n",
       "      <td>0</td>\n",
       "      <td>206</td>\n",
       "      <td>135</td>\n",
       "      <td>3</td>\n",
       "      <td>338</td>\n",
       "      <td>339</td>\n",
       "      <td>6.83%</td>\n",
       "      <td>...</td>\n",
       "      <td>0</td>\n",
       "      <td>0</td>\n",
       "      <td>0</td>\n",
       "      <td>0</td>\n",
       "      <td>0</td>\n",
       "      <td>0</td>\n",
       "      <td>0</td>\n",
       "      <td>0</td>\n",
       "      <td>0</td>\n",
       "      <td>0</td>\n",
       "    </tr>\n",
       "  </tbody>\n",
       "</table>\n",
       "<p>5 rows × 269 columns</p>\n",
       "</div>"
      ],
      "text/plain": [
       "     Month Cbs district  City symbol  City or Regional council   Men  Weman  \\\n",
       "0  2010-01        Haifa         2710                         0  1398   1941   \n",
       "1  2010-01        Haifa         1020                         0   258    318   \n",
       "3  2010-01        Haifa         9800                         0    83    108   \n",
       "4  2010-01        Haifa         1326                         0   146    128   \n",
       "5  2010-01        Haifa          541                         0   206    135   \n",
       "\n",
       "   Academic  Non academic  Unemployed job seekers  \\\n",
       "0        10          3329                    3335   \n",
       "1        53           523                     562   \n",
       "3        64           127                     190   \n",
       "4         5           269                     274   \n",
       "5         3           338                     339   \n",
       "\n",
       "  Estimated unemployed rate in city  ...  רעננה  שבלי - אום אל-גנם  שגב-שלום  \\\n",
       "0                            19.94%  ...      0                  0         0   \n",
       "1                             6.23%  ...      0                  0         0   \n",
       "3                             3.11%  ...      0                  0         0   \n",
       "4                             8.95%  ...      0                  0         0   \n",
       "5                             6.83%  ...      0                  0         0   \n",
       "\n",
       "   שדרות  שוהם  שלומי  שעב  שפרעם  תל מונד  תל שבע  \n",
       "0      0     0      0    0      0        0       0  \n",
       "1      0     0      0    0      0        0       0  \n",
       "3      0     0      0    0      0        0       0  \n",
       "4      0     0      0    0      0        0       0  \n",
       "5      0     0      0    0      0        0       0  \n",
       "\n",
       "[5 rows x 269 columns]"
      ]
     },
     "execution_count": 14,
     "metadata": {},
     "output_type": "execute_result"
    }
   ],
   "source": [
    "df.head()"
   ]
  },
  {
   "cell_type": "code",
   "execution_count": 15,
   "id": "35a899ae",
   "metadata": {},
   "outputs": [
    {
     "data": {
      "text/plain": [
       "Month                       object\n",
       "Cbs district                object\n",
       "City symbol                  int64\n",
       "City or Regional council     int64\n",
       "Men                          int64\n",
       "                             ...  \n",
       "שלומי                        uint8\n",
       "שעב                          uint8\n",
       "שפרעם                        uint8\n",
       "תל מונד                      uint8\n",
       "תל שבע                       uint8\n",
       "Length: 269, dtype: object"
      ]
     },
     "execution_count": 15,
     "metadata": {},
     "output_type": "execute_result"
    }
   ],
   "source": [
    "df.dtypes"
   ]
  },
  {
   "cell_type": "code",
   "execution_count": 16,
   "id": "2d035e05",
   "metadata": {},
   "outputs": [
    {
     "data": {
      "text/plain": [
       "array(['Haifa', 'Jerusalem', 'Tel-Aviv', 'center', 'north', 'south',\n",
       "       'West Bank'], dtype=object)"
      ]
     },
     "execution_count": 16,
     "metadata": {},
     "output_type": "execute_result"
    }
   ],
   "source": [
    "df['Cbs district'].unique()"
   ]
  },
  {
   "cell_type": "code",
   "execution_count": 17,
   "id": "2ef6e067",
   "metadata": {},
   "outputs": [],
   "source": [
    "df['Cbs district'] = pd.factorize(df['Cbs district'])[0]"
   ]
  },
  {
   "cell_type": "code",
   "execution_count": 18,
   "id": "9e288baf",
   "metadata": {},
   "outputs": [
    {
     "name": "stdout",
     "output_type": "stream",
     "text": [
      "       Cbs district\n",
      "0                 0\n",
      "1                 0\n",
      "3                 0\n",
      "4                 0\n",
      "5                 0\n",
      "...             ...\n",
      "28663             6\n",
      "28664             6\n",
      "28665             6\n",
      "28666             6\n",
      "28667             6\n",
      "\n",
      "[28620 rows x 1 columns]\n"
     ]
    }
   ],
   "source": [
    "print(df[['Cbs district']])"
   ]
  },
  {
   "cell_type": "code",
   "execution_count": 19,
   "id": "ac6f6ebf",
   "metadata": {},
   "outputs": [
    {
     "data": {
      "text/plain": [
       "array([0, 1, 2, 3, 4, 5, 6], dtype=int64)"
      ]
     },
     "execution_count": 19,
     "metadata": {},
     "output_type": "execute_result"
    }
   ],
   "source": [
    "df['Cbs district'].unique()"
   ]
  },
  {
   "cell_type": "code",
   "execution_count": 20,
   "id": "1cba37d2",
   "metadata": {},
   "outputs": [
    {
     "data": {
      "text/plain": [
       "array(['2010-01', '2010-02', '2010-03', '2010-04', '2010-05', '2010-06',\n",
       "       '2010-07', '2010-08', '2010-09', '2010-10', '2010-11', '2010-12',\n",
       "       '2011-01', '2011-02', '2011-03', '2011-04', '2011-05', '2011-06',\n",
       "       '2011-07', '2011-08', '2011-09', '2011-10', '2011-11', '2011-12',\n",
       "       '2012-01', '2012-02', '2012-03', '2012-04', '2012-05', '2012-06',\n",
       "       '2012-07', '2012-08', '2012-09', '2012-10', '2012-11', '2012-12',\n",
       "       '2013-01', '2013-02', '2013-03', '2013-04', '2013-05', '2013-06',\n",
       "       '2013-07', '2013-08', '2013-09', '2013-10', '2013-11', '2013-12',\n",
       "       '2014-01', '2014-02', '2014-03', '2014-04', '2014-05', '2014-06',\n",
       "       '2014-07', '2014-08', '2014-09', '2014-10', '2014-11', '2014-12',\n",
       "       '2015-01', '2015-02', '2015-03', '2015-04', '2015-05', '2015-06',\n",
       "       '2015-07', '2015-08', '2015-09', '2015-10', '2015-11', '2015-12',\n",
       "       '2016-01', '2016-02', '2016-03', '2016-04', '2016-05', '2016-06',\n",
       "       '2016-07', '2016-08', '2016-09', '2016-10', '2016-11', '2016-12',\n",
       "       '2017-01', '2017-02', '2017-03', '2017-04', '2017-05', '2017-06',\n",
       "       '2017-07', '2017-08', '2017-09', '2017-10', '2017-11', '2017-12',\n",
       "       '2018-01', '2018-02', '2018-03', '2018-04', '2018-05', '2018-06',\n",
       "       '2018-07', '2018-08', '2018-09', '2018-10', '2018-11', '2018-12',\n",
       "       '2019-01', '2019-02', '2019-03', '2019-04', '2019-05', '2019-06',\n",
       "       '2019-07', '2019-08', '2019-09', '2019-10', '2019-11', '2019-12',\n",
       "       '2020-01', '2020-02', '2020-03', '2020-04'], dtype=object)"
      ]
     },
     "execution_count": 20,
     "metadata": {},
     "output_type": "execute_result"
    }
   ],
   "source": [
    "df['Month'].unique()"
   ]
  },
  {
   "cell_type": "code",
   "execution_count": 21,
   "id": "cd3e3d15",
   "metadata": {},
   "outputs": [
    {
     "data": {
      "text/html": [
       "<div>\n",
       "<style scoped>\n",
       "    .dataframe tbody tr th:only-of-type {\n",
       "        vertical-align: middle;\n",
       "    }\n",
       "\n",
       "    .dataframe tbody tr th {\n",
       "        vertical-align: top;\n",
       "    }\n",
       "\n",
       "    .dataframe thead th {\n",
       "        text-align: right;\n",
       "    }\n",
       "</style>\n",
       "<table border=\"1\" class=\"dataframe\">\n",
       "  <thead>\n",
       "    <tr style=\"text-align: right;\">\n",
       "      <th></th>\n",
       "      <th>Month</th>\n",
       "      <th>Cbs district</th>\n",
       "      <th>City symbol</th>\n",
       "      <th>City or Regional council</th>\n",
       "      <th>Men</th>\n",
       "      <th>Weman</th>\n",
       "      <th>Academic</th>\n",
       "      <th>Non academic</th>\n",
       "      <th>Unemployed job seekers</th>\n",
       "      <th>Estimated unemployed rate in city</th>\n",
       "      <th>...</th>\n",
       "      <th>רעננה</th>\n",
       "      <th>שבלי - אום אל-גנם</th>\n",
       "      <th>שגב-שלום</th>\n",
       "      <th>שדרות</th>\n",
       "      <th>שוהם</th>\n",
       "      <th>שלומי</th>\n",
       "      <th>שעב</th>\n",
       "      <th>שפרעם</th>\n",
       "      <th>תל מונד</th>\n",
       "      <th>תל שבע</th>\n",
       "    </tr>\n",
       "  </thead>\n",
       "  <tbody>\n",
       "    <tr>\n",
       "      <th>28663</th>\n",
       "      <td>2020</td>\n",
       "      <td>6</td>\n",
       "      <td>3608</td>\n",
       "      <td>0</td>\n",
       "      <td>100</td>\n",
       "      <td>150</td>\n",
       "      <td>6</td>\n",
       "      <td>244</td>\n",
       "      <td>248</td>\n",
       "      <td>30.77%</td>\n",
       "      <td>...</td>\n",
       "      <td>0</td>\n",
       "      <td>0</td>\n",
       "      <td>0</td>\n",
       "      <td>0</td>\n",
       "      <td>0</td>\n",
       "      <td>0</td>\n",
       "      <td>0</td>\n",
       "      <td>0</td>\n",
       "      <td>0</td>\n",
       "      <td>0</td>\n",
       "    </tr>\n",
       "    <tr>\n",
       "      <th>28664</th>\n",
       "      <td>2020</td>\n",
       "      <td>6</td>\n",
       "      <td>3660</td>\n",
       "      <td>0</td>\n",
       "      <td>219</td>\n",
       "      <td>332</td>\n",
       "      <td>4</td>\n",
       "      <td>547</td>\n",
       "      <td>548</td>\n",
       "      <td>40.65%</td>\n",
       "      <td>...</td>\n",
       "      <td>0</td>\n",
       "      <td>0</td>\n",
       "      <td>0</td>\n",
       "      <td>0</td>\n",
       "      <td>0</td>\n",
       "      <td>0</td>\n",
       "      <td>0</td>\n",
       "      <td>0</td>\n",
       "      <td>0</td>\n",
       "      <td>0</td>\n",
       "    </tr>\n",
       "    <tr>\n",
       "      <th>28665</th>\n",
       "      <td>2020</td>\n",
       "      <td>6</td>\n",
       "      <td>3557</td>\n",
       "      <td>0</td>\n",
       "      <td>191</td>\n",
       "      <td>219</td>\n",
       "      <td>20</td>\n",
       "      <td>390</td>\n",
       "      <td>410</td>\n",
       "      <td>20.55%</td>\n",
       "      <td>...</td>\n",
       "      <td>0</td>\n",
       "      <td>0</td>\n",
       "      <td>0</td>\n",
       "      <td>0</td>\n",
       "      <td>0</td>\n",
       "      <td>0</td>\n",
       "      <td>0</td>\n",
       "      <td>0</td>\n",
       "      <td>0</td>\n",
       "      <td>0</td>\n",
       "    </tr>\n",
       "    <tr>\n",
       "      <th>28666</th>\n",
       "      <td>2020</td>\n",
       "      <td>6</td>\n",
       "      <td>3611</td>\n",
       "      <td>0</td>\n",
       "      <td>496</td>\n",
       "      <td>584</td>\n",
       "      <td>39</td>\n",
       "      <td>1041</td>\n",
       "      <td>1077</td>\n",
       "      <td>31.94%</td>\n",
       "      <td>...</td>\n",
       "      <td>0</td>\n",
       "      <td>0</td>\n",
       "      <td>0</td>\n",
       "      <td>0</td>\n",
       "      <td>0</td>\n",
       "      <td>0</td>\n",
       "      <td>0</td>\n",
       "      <td>0</td>\n",
       "      <td>0</td>\n",
       "      <td>0</td>\n",
       "    </tr>\n",
       "    <tr>\n",
       "      <th>28667</th>\n",
       "      <td>2020</td>\n",
       "      <td>6</td>\n",
       "      <td>3640</td>\n",
       "      <td>0</td>\n",
       "      <td>483</td>\n",
       "      <td>544</td>\n",
       "      <td>53</td>\n",
       "      <td>974</td>\n",
       "      <td>1023</td>\n",
       "      <td>25.13%</td>\n",
       "      <td>...</td>\n",
       "      <td>0</td>\n",
       "      <td>0</td>\n",
       "      <td>0</td>\n",
       "      <td>0</td>\n",
       "      <td>0</td>\n",
       "      <td>0</td>\n",
       "      <td>0</td>\n",
       "      <td>0</td>\n",
       "      <td>0</td>\n",
       "      <td>0</td>\n",
       "    </tr>\n",
       "  </tbody>\n",
       "</table>\n",
       "<p>5 rows × 269 columns</p>\n",
       "</div>"
      ],
      "text/plain": [
       "       Month  Cbs district  City symbol  City or Regional council  Men  Weman  \\\n",
       "28663   2020             6         3608                         0  100    150   \n",
       "28664   2020             6         3660                         0  219    332   \n",
       "28665   2020             6         3557                         0  191    219   \n",
       "28666   2020             6         3611                         0  496    584   \n",
       "28667   2020             6         3640                         0  483    544   \n",
       "\n",
       "       Academic  Non academic  Unemployed job seekers  \\\n",
       "28663         6           244                     248   \n",
       "28664         4           547                     548   \n",
       "28665        20           390                     410   \n",
       "28666        39          1041                    1077   \n",
       "28667        53           974                    1023   \n",
       "\n",
       "      Estimated unemployed rate in city  ...  רעננה  שבלי - אום אל-גנם  \\\n",
       "28663                            30.77%  ...      0                  0   \n",
       "28664                            40.65%  ...      0                  0   \n",
       "28665                            20.55%  ...      0                  0   \n",
       "28666                            31.94%  ...      0                  0   \n",
       "28667                            25.13%  ...      0                  0   \n",
       "\n",
       "       שגב-שלום  שדרות  שוהם  שלומי  שעב  שפרעם  תל מונד  תל שבע  \n",
       "28663         0      0     0      0    0      0        0       0  \n",
       "28664         0      0     0      0    0      0        0       0  \n",
       "28665         0      0     0      0    0      0        0       0  \n",
       "28666         0      0     0      0    0      0        0       0  \n",
       "28667         0      0     0      0    0      0        0       0  \n",
       "\n",
       "[5 rows x 269 columns]"
      ]
     },
     "execution_count": 21,
     "metadata": {},
     "output_type": "execute_result"
    }
   ],
   "source": [
    "def to_year(s):\n",
    "    if(\"2010\" in s):\n",
    "        return 2010\n",
    "    if(\"2011\" in s):\n",
    "        return 2011\n",
    "    if(\"2012\" in s):\n",
    "        return 2012\n",
    "    if(\"2013\" in s):\n",
    "        return 2013\n",
    "    if(\"2014\" in s):\n",
    "        return 2014\n",
    "    if(\"2015\" in s):\n",
    "        return 2015\n",
    "    if(\"2016\" in s):\n",
    "        return 2016\n",
    "    if(\"2017\" in s):\n",
    "        return 2017\n",
    "    if(\"2018\" in s):\n",
    "        return 2018\n",
    "    if(\"2019\" in s):\n",
    "        return 2019\n",
    "    if(\"2020\" in s):\n",
    "        return 2020\n",
    "    else: -1\n",
    "        \n",
    "        \n",
    "\n",
    "df[\"Month\"] = df[\"Month\"].apply(to_year)\n",
    "df.tail()"
   ]
  },
  {
   "cell_type": "code",
   "execution_count": 22,
   "id": "94e0f8c0",
   "metadata": {},
   "outputs": [
    {
     "data": {
      "text/plain": [
       "Month                       int64\n",
       "Cbs district                int64\n",
       "City symbol                 int64\n",
       "City or Regional council    int64\n",
       "Men                         int64\n",
       "                            ...  \n",
       "שלומי                       uint8\n",
       "שעב                         uint8\n",
       "שפרעם                       uint8\n",
       "תל מונד                     uint8\n",
       "תל שבע                      uint8\n",
       "Length: 269, dtype: object"
      ]
     },
     "execution_count": 22,
     "metadata": {},
     "output_type": "execute_result"
    }
   ],
   "source": [
    "df.dtypes"
   ]
  },
  {
   "cell_type": "code",
   "execution_count": null,
   "id": "b8986ad6",
   "metadata": {},
   "outputs": [],
   "source": []
  },
  {
   "cell_type": "code",
   "execution_count": 23,
   "id": "c7f4220e",
   "metadata": {},
   "outputs": [],
   "source": [
    "df['Estimated unemployed rate in city'] = df['Estimated unemployed rate in city'].str.rstrip(\"%\").astype(float)/100"
   ]
  },
  {
   "cell_type": "code",
   "execution_count": 24,
   "id": "169c60d6",
   "metadata": {},
   "outputs": [
    {
     "name": "stdout",
     "output_type": "stream",
     "text": [
      "       Estimated unemployed rate in city\n",
      "0                                 0.1994\n",
      "1                                 0.0623\n",
      "3                                 0.0311\n",
      "4                                 0.0895\n",
      "5                                 0.0683\n",
      "...                                  ...\n",
      "28663                             0.3077\n",
      "28664                             0.4065\n",
      "28665                             0.2055\n",
      "28666                             0.3194\n",
      "28667                             0.2513\n",
      "\n",
      "[28620 rows x 1 columns]\n"
     ]
    }
   ],
   "source": [
    "print(df[['Estimated unemployed rate in city']])"
   ]
  },
  {
   "cell_type": "code",
   "execution_count": 25,
   "id": "bf6a75b7",
   "metadata": {},
   "outputs": [
    {
     "data": {
      "text/plain": [
       "Month                       int64\n",
       "Cbs district                int64\n",
       "City symbol                 int64\n",
       "City or Regional council    int64\n",
       "Men                         int64\n",
       "                            ...  \n",
       "שלומי                       uint8\n",
       "שעב                         uint8\n",
       "שפרעם                       uint8\n",
       "תל מונד                     uint8\n",
       "תל שבע                      uint8\n",
       "Length: 269, dtype: object"
      ]
     },
     "execution_count": 25,
     "metadata": {},
     "output_type": "execute_result"
    }
   ],
   "source": [
    "df.dtypes"
   ]
  },
  {
   "cell_type": "code",
   "execution_count": 26,
   "id": "9c353582",
   "metadata": {},
   "outputs": [],
   "source": [
    "#df['Name'] = pd.factorize(df['Name'])[0]"
   ]
  },
  {
   "cell_type": "code",
   "execution_count": 27,
   "id": "7ecc4d4e",
   "metadata": {},
   "outputs": [],
   "source": [
    "#df['Name'].unique()"
   ]
  },
  {
   "cell_type": "code",
   "execution_count": 28,
   "id": "e0001c11",
   "metadata": {},
   "outputs": [
    {
     "data": {
      "text/plain": [
       "Month                       int64\n",
       "Cbs district                int64\n",
       "City symbol                 int64\n",
       "City or Regional council    int64\n",
       "Men                         int64\n",
       "                            ...  \n",
       "שלומי                       uint8\n",
       "שעב                         uint8\n",
       "שפרעם                       uint8\n",
       "תל מונד                     uint8\n",
       "תל שבע                      uint8\n",
       "Length: 269, dtype: object"
      ]
     },
     "execution_count": 28,
     "metadata": {},
     "output_type": "execute_result"
    }
   ],
   "source": [
    "df.dtypes"
   ]
  },
  {
   "cell_type": "code",
   "execution_count": 29,
   "id": "84b4b235",
   "metadata": {},
   "outputs": [
    {
     "data": {
      "text/html": [
       "<div>\n",
       "<style scoped>\n",
       "    .dataframe tbody tr th:only-of-type {\n",
       "        vertical-align: middle;\n",
       "    }\n",
       "\n",
       "    .dataframe tbody tr th {\n",
       "        vertical-align: top;\n",
       "    }\n",
       "\n",
       "    .dataframe thead th {\n",
       "        text-align: right;\n",
       "    }\n",
       "</style>\n",
       "<table border=\"1\" class=\"dataframe\">\n",
       "  <thead>\n",
       "    <tr style=\"text-align: right;\">\n",
       "      <th></th>\n",
       "      <th>Month</th>\n",
       "      <th>Cbs district</th>\n",
       "      <th>City symbol</th>\n",
       "      <th>City or Regional council</th>\n",
       "      <th>Men</th>\n",
       "      <th>Weman</th>\n",
       "      <th>Academic</th>\n",
       "      <th>Non academic</th>\n",
       "      <th>Unemployed job seekers</th>\n",
       "      <th>Estimated unemployed rate in city</th>\n",
       "      <th>...</th>\n",
       "      <th>רעננה</th>\n",
       "      <th>שבלי - אום אל-גנם</th>\n",
       "      <th>שגב-שלום</th>\n",
       "      <th>שדרות</th>\n",
       "      <th>שוהם</th>\n",
       "      <th>שלומי</th>\n",
       "      <th>שעב</th>\n",
       "      <th>שפרעם</th>\n",
       "      <th>תל מונד</th>\n",
       "      <th>תל שבע</th>\n",
       "    </tr>\n",
       "  </thead>\n",
       "  <tbody>\n",
       "    <tr>\n",
       "      <th>0</th>\n",
       "      <td>2010</td>\n",
       "      <td>0</td>\n",
       "      <td>2710</td>\n",
       "      <td>0</td>\n",
       "      <td>1398</td>\n",
       "      <td>1941</td>\n",
       "      <td>10</td>\n",
       "      <td>3329</td>\n",
       "      <td>3335</td>\n",
       "      <td>0.1994</td>\n",
       "      <td>...</td>\n",
       "      <td>0</td>\n",
       "      <td>0</td>\n",
       "      <td>0</td>\n",
       "      <td>0</td>\n",
       "      <td>0</td>\n",
       "      <td>0</td>\n",
       "      <td>0</td>\n",
       "      <td>0</td>\n",
       "      <td>0</td>\n",
       "      <td>0</td>\n",
       "    </tr>\n",
       "    <tr>\n",
       "      <th>1</th>\n",
       "      <td>2010</td>\n",
       "      <td>0</td>\n",
       "      <td>1020</td>\n",
       "      <td>0</td>\n",
       "      <td>258</td>\n",
       "      <td>318</td>\n",
       "      <td>53</td>\n",
       "      <td>523</td>\n",
       "      <td>562</td>\n",
       "      <td>0.0623</td>\n",
       "      <td>...</td>\n",
       "      <td>0</td>\n",
       "      <td>0</td>\n",
       "      <td>0</td>\n",
       "      <td>0</td>\n",
       "      <td>0</td>\n",
       "      <td>0</td>\n",
       "      <td>0</td>\n",
       "      <td>0</td>\n",
       "      <td>0</td>\n",
       "      <td>0</td>\n",
       "    </tr>\n",
       "    <tr>\n",
       "      <th>3</th>\n",
       "      <td>2010</td>\n",
       "      <td>0</td>\n",
       "      <td>9800</td>\n",
       "      <td>0</td>\n",
       "      <td>83</td>\n",
       "      <td>108</td>\n",
       "      <td>64</td>\n",
       "      <td>127</td>\n",
       "      <td>190</td>\n",
       "      <td>0.0311</td>\n",
       "      <td>...</td>\n",
       "      <td>0</td>\n",
       "      <td>0</td>\n",
       "      <td>0</td>\n",
       "      <td>0</td>\n",
       "      <td>0</td>\n",
       "      <td>0</td>\n",
       "      <td>0</td>\n",
       "      <td>0</td>\n",
       "      <td>0</td>\n",
       "      <td>0</td>\n",
       "    </tr>\n",
       "    <tr>\n",
       "      <th>4</th>\n",
       "      <td>2010</td>\n",
       "      <td>0</td>\n",
       "      <td>1326</td>\n",
       "      <td>0</td>\n",
       "      <td>146</td>\n",
       "      <td>128</td>\n",
       "      <td>5</td>\n",
       "      <td>269</td>\n",
       "      <td>274</td>\n",
       "      <td>0.0895</td>\n",
       "      <td>...</td>\n",
       "      <td>0</td>\n",
       "      <td>0</td>\n",
       "      <td>0</td>\n",
       "      <td>0</td>\n",
       "      <td>0</td>\n",
       "      <td>0</td>\n",
       "      <td>0</td>\n",
       "      <td>0</td>\n",
       "      <td>0</td>\n",
       "      <td>0</td>\n",
       "    </tr>\n",
       "    <tr>\n",
       "      <th>5</th>\n",
       "      <td>2010</td>\n",
       "      <td>0</td>\n",
       "      <td>541</td>\n",
       "      <td>0</td>\n",
       "      <td>206</td>\n",
       "      <td>135</td>\n",
       "      <td>3</td>\n",
       "      <td>338</td>\n",
       "      <td>339</td>\n",
       "      <td>0.0683</td>\n",
       "      <td>...</td>\n",
       "      <td>0</td>\n",
       "      <td>0</td>\n",
       "      <td>0</td>\n",
       "      <td>0</td>\n",
       "      <td>0</td>\n",
       "      <td>0</td>\n",
       "      <td>0</td>\n",
       "      <td>0</td>\n",
       "      <td>0</td>\n",
       "      <td>0</td>\n",
       "    </tr>\n",
       "  </tbody>\n",
       "</table>\n",
       "<p>5 rows × 269 columns</p>\n",
       "</div>"
      ],
      "text/plain": [
       "   Month  Cbs district  City symbol  City or Regional council   Men  Weman  \\\n",
       "0   2010             0         2710                         0  1398   1941   \n",
       "1   2010             0         1020                         0   258    318   \n",
       "3   2010             0         9800                         0    83    108   \n",
       "4   2010             0         1326                         0   146    128   \n",
       "5   2010             0          541                         0   206    135   \n",
       "\n",
       "   Academic  Non academic  Unemployed job seekers  \\\n",
       "0        10          3329                    3335   \n",
       "1        53           523                     562   \n",
       "3        64           127                     190   \n",
       "4         5           269                     274   \n",
       "5         3           338                     339   \n",
       "\n",
       "   Estimated unemployed rate in city  ...  רעננה  שבלי - אום אל-גנם  שגב-שלום  \\\n",
       "0                             0.1994  ...      0                  0         0   \n",
       "1                             0.0623  ...      0                  0         0   \n",
       "3                             0.0311  ...      0                  0         0   \n",
       "4                             0.0895  ...      0                  0         0   \n",
       "5                             0.0683  ...      0                  0         0   \n",
       "\n",
       "   שדרות  שוהם  שלומי  שעב  שפרעם  תל מונד  תל שבע  \n",
       "0      0     0      0    0      0        0       0  \n",
       "1      0     0      0    0      0        0       0  \n",
       "3      0     0      0    0      0        0       0  \n",
       "4      0     0      0    0      0        0       0  \n",
       "5      0     0      0    0      0        0       0  \n",
       "\n",
       "[5 rows x 269 columns]"
      ]
     },
     "execution_count": 29,
     "metadata": {},
     "output_type": "execute_result"
    }
   ],
   "source": [
    "df.head()"
   ]
  },
  {
   "cell_type": "code",
   "execution_count": 30,
   "id": "868358a3",
   "metadata": {},
   "outputs": [],
   "source": [
    "#from sklearn import preprocessing\n",
    "#x_array = np.array(df['Month'])\n",
    "#normalized_arr = preprocessing.normalize([x_array])\n",
    "#print(normalized_arr)"
   ]
  },
  {
   "cell_type": "code",
   "execution_count": 31,
   "id": "6f9c1b63",
   "metadata": {},
   "outputs": [],
   "source": [
    "#scaler = preprocessing.MinMaxScaler()\n",
    "#names = df.columns\n",
    "#d = scaler.fit_transform(df)\n",
    "#scaled_df = pd.DataFrame(d, columns=names)\n",
    "#scaled_df.head()"
   ]
  },
  {
   "cell_type": "code",
   "execution_count": null,
   "id": "7e482f7d",
   "metadata": {},
   "outputs": [],
   "source": []
  },
  {
   "cell_type": "code",
   "execution_count": null,
   "id": "ffa89e19",
   "metadata": {},
   "outputs": [],
   "source": []
  },
  {
   "cell_type": "markdown",
   "id": "d0fbdee7",
   "metadata": {},
   "source": [
    "## Modeling"
   ]
  },
  {
   "cell_type": "code",
   "execution_count": 32,
   "id": "40fe1def",
   "metadata": {},
   "outputs": [],
   "source": [
    "#lab = preprocessing.LabelEncoder()\n",
    "#train_transformed = lab.fit_transform(train)\n",
    "#test_transformed = lab.fit_transform(test)"
   ]
  },
  {
   "cell_type": "code",
   "execution_count": 33,
   "id": "6a26b61b",
   "metadata": {},
   "outputs": [],
   "source": [
    "#classifier = LogisticRegression()\n",
    "#classifier.fit(train_transformed, test_transformed)"
   ]
  },
  {
   "cell_type": "code",
   "execution_count": 34,
   "id": "b20e50a3",
   "metadata": {},
   "outputs": [],
   "source": [
    "train = df.drop(['Estimated unemployed rate in city','City symbol'], axis=1)\n",
    "test = df['Estimated unemployed rate in city']"
   ]
  },
  {
   "cell_type": "code",
   "execution_count": 35,
   "id": "cf9085cd",
   "metadata": {},
   "outputs": [],
   "source": [
    "X_train, X_test, y_train, y_test = train_test_split(train, test, test_size = 0.3, random_state=2)"
   ]
  },
  {
   "cell_type": "markdown",
   "id": "6d25b9df",
   "metadata": {},
   "source": [
    "## Linear Regression"
   ]
  },
  {
   "cell_type": "code",
   "execution_count": 36,
   "id": "764f8360",
   "metadata": {},
   "outputs": [],
   "source": [
    "regr = LinearRegression()"
   ]
  },
  {
   "cell_type": "code",
   "execution_count": 37,
   "id": "470b5fa0",
   "metadata": {},
   "outputs": [
    {
     "data": {
      "text/plain": [
       "LinearRegression()"
      ]
     },
     "execution_count": 37,
     "metadata": {},
     "output_type": "execute_result"
    }
   ],
   "source": [
    "regr.fit(X_train,y_train)"
   ]
  },
  {
   "cell_type": "code",
   "execution_count": 38,
   "id": "a10495a4",
   "metadata": {},
   "outputs": [],
   "source": [
    "pred = regr.predict(X_test)"
   ]
  },
  {
   "cell_type": "code",
   "execution_count": 39,
   "id": "bf1a6bfc",
   "metadata": {},
   "outputs": [
    {
     "data": {
      "text/plain": [
       "array([0.01623474, 0.13303602, 0.0216355 , ..., 0.07751245, 0.06422641,\n",
       "       0.13613434])"
      ]
     },
     "execution_count": 39,
     "metadata": {},
     "output_type": "execute_result"
    }
   ],
   "source": [
    "pred"
   ]
  },
  {
   "cell_type": "code",
   "execution_count": 40,
   "id": "4caa9e90",
   "metadata": {},
   "outputs": [
    {
     "data": {
      "text/plain": [
       "0.7321497559373886"
      ]
     },
     "execution_count": 40,
     "metadata": {},
     "output_type": "execute_result"
    }
   ],
   "source": [
    "regr.score(X_test, y_test)"
   ]
  },
  {
   "cell_type": "code",
   "execution_count": null,
   "id": "6195d59d",
   "metadata": {},
   "outputs": [],
   "source": []
  },
  {
   "cell_type": "code",
   "execution_count": null,
   "id": "15d7ef68",
   "metadata": {},
   "outputs": [],
   "source": []
  },
  {
   "cell_type": "code",
   "execution_count": null,
   "id": "6b8d32cc",
   "metadata": {},
   "outputs": [],
   "source": []
  },
  {
   "cell_type": "code",
   "execution_count": null,
   "id": "bfb150dc",
   "metadata": {},
   "outputs": [],
   "source": []
  },
  {
   "cell_type": "code",
   "execution_count": null,
   "id": "3b70aa3c",
   "metadata": {},
   "outputs": [],
   "source": []
  },
  {
   "cell_type": "code",
   "execution_count": null,
   "id": "9b923382",
   "metadata": {},
   "outputs": [],
   "source": []
  },
  {
   "cell_type": "code",
   "execution_count": null,
   "id": "7d736761",
   "metadata": {},
   "outputs": [],
   "source": [
    "#clf = DecisionTreeClassifier()\n",
    "\n",
    "# Train Decision Tree Classifer\n",
    "#clf = clf.fit(X_train,y_train)\n",
    "\n",
    "#Predict the response for test dataset\n",
    "#y_pred = clf.predict(X_test)"
   ]
  },
  {
   "cell_type": "code",
   "execution_count": null,
   "id": "102af573",
   "metadata": {},
   "outputs": [],
   "source": [
    "#print(\"Accuracy:\",metrics.accuracy_score(y_test, y_pred))"
   ]
  },
  {
   "cell_type": "code",
   "execution_count": null,
   "id": "e955678f",
   "metadata": {},
   "outputs": [],
   "source": []
  }
 ],
 "metadata": {
  "kernelspec": {
   "display_name": "Python 3",
   "language": "python",
   "name": "python3"
  },
  "language_info": {
   "codemirror_mode": {
    "name": "ipython",
    "version": 3
   },
   "file_extension": ".py",
   "mimetype": "text/x-python",
   "name": "python",
   "nbconvert_exporter": "python",
   "pygments_lexer": "ipython3",
   "version": "3.8.8"
  }
 },
 "nbformat": 4,
 "nbformat_minor": 5
}
